{
 "cells": [
  {
   "cell_type": "markdown",
   "id": "bf288434-2c39-4538-98c7-6b93ac12fe7c",
   "metadata": {},
   "source": [
    "# <p style=\"font-family: tahoma ; color: cyan; text-align: center;\"><b>Glue Data Set Practice</b></p>"
   ]
  },
  {
   "cell_type": "code",
   "execution_count": 1,
   "id": "33b52ba4-9d6c-4bb5-8236-2afed6131744",
   "metadata": {},
   "outputs": [],
   "source": [
    "import numpy as np\n",
    "import pandas as pd\n",
    "\n",
    "import matplotlib.pyplot as plt\n",
    "import matplotlib as mpl\n",
    "\n",
    "import seaborn as sns\n",
    "\n",
    "import warnings\n",
    "warnings.filterwarnings(\"ignore\")"
   ]
  },
  {
   "cell_type": "code",
   "execution_count": 25,
   "id": "fc2ba3ac-4d7e-4ecd-abad-022a2b6b1824",
   "metadata": {},
   "outputs": [
    {
     "data": {
      "text/html": [
       "<div>\n",
       "<style scoped>\n",
       "    .dataframe tbody tr th:only-of-type {\n",
       "        vertical-align: middle;\n",
       "    }\n",
       "\n",
       "    .dataframe tbody tr th {\n",
       "        vertical-align: top;\n",
       "    }\n",
       "\n",
       "    .dataframe thead th {\n",
       "        text-align: right;\n",
       "    }\n",
       "</style>\n",
       "<table border=\"1\" class=\"dataframe\">\n",
       "  <thead>\n",
       "    <tr style=\"text-align: right;\">\n",
       "      <th></th>\n",
       "      <th>Model</th>\n",
       "      <th>Year</th>\n",
       "      <th>Encoder</th>\n",
       "      <th>Task</th>\n",
       "      <th>Score</th>\n",
       "    </tr>\n",
       "  </thead>\n",
       "  <tbody>\n",
       "    <tr>\n",
       "      <th>0</th>\n",
       "      <td>ERNIE</td>\n",
       "      <td>2019</td>\n",
       "      <td>Transformer</td>\n",
       "      <td>CoLA</td>\n",
       "      <td>75.5</td>\n",
       "    </tr>\n",
       "    <tr>\n",
       "      <th>1</th>\n",
       "      <td>T5</td>\n",
       "      <td>2019</td>\n",
       "      <td>Transformer</td>\n",
       "      <td>CoLA</td>\n",
       "      <td>71.6</td>\n",
       "    </tr>\n",
       "    <tr>\n",
       "      <th>2</th>\n",
       "      <td>RoBERTa</td>\n",
       "      <td>2019</td>\n",
       "      <td>Transformer</td>\n",
       "      <td>CoLA</td>\n",
       "      <td>67.8</td>\n",
       "    </tr>\n",
       "    <tr>\n",
       "      <th>3</th>\n",
       "      <td>BERT</td>\n",
       "      <td>2018</td>\n",
       "      <td>Transformer</td>\n",
       "      <td>CoLA</td>\n",
       "      <td>60.5</td>\n",
       "    </tr>\n",
       "    <tr>\n",
       "      <th>4</th>\n",
       "      <td>BiLSTM+ELMo</td>\n",
       "      <td>2018</td>\n",
       "      <td>LSTM</td>\n",
       "      <td>CoLA</td>\n",
       "      <td>32.1</td>\n",
       "    </tr>\n",
       "    <tr>\n",
       "      <th>...</th>\n",
       "      <td>...</td>\n",
       "      <td>...</td>\n",
       "      <td>...</td>\n",
       "      <td>...</td>\n",
       "      <td>...</td>\n",
       "    </tr>\n",
       "    <tr>\n",
       "      <th>59</th>\n",
       "      <td>BERT</td>\n",
       "      <td>2018</td>\n",
       "      <td>Transformer</td>\n",
       "      <td>RTE</td>\n",
       "      <td>70.1</td>\n",
       "    </tr>\n",
       "    <tr>\n",
       "      <th>60</th>\n",
       "      <td>BiLSTM+ELMo</td>\n",
       "      <td>2018</td>\n",
       "      <td>LSTM</td>\n",
       "      <td>RTE</td>\n",
       "      <td>57.4</td>\n",
       "    </tr>\n",
       "    <tr>\n",
       "      <th>61</th>\n",
       "      <td>BiLSTM+CoVe</td>\n",
       "      <td>2017</td>\n",
       "      <td>LSTM</td>\n",
       "      <td>RTE</td>\n",
       "      <td>52.7</td>\n",
       "    </tr>\n",
       "    <tr>\n",
       "      <th>62</th>\n",
       "      <td>BiLSTM+Attn</td>\n",
       "      <td>2017</td>\n",
       "      <td>LSTM</td>\n",
       "      <td>RTE</td>\n",
       "      <td>58.4</td>\n",
       "    </tr>\n",
       "    <tr>\n",
       "      <th>63</th>\n",
       "      <td>BiLSTM</td>\n",
       "      <td>2017</td>\n",
       "      <td>LSTM</td>\n",
       "      <td>RTE</td>\n",
       "      <td>57.4</td>\n",
       "    </tr>\n",
       "  </tbody>\n",
       "</table>\n",
       "<p>64 rows × 5 columns</p>\n",
       "</div>"
      ],
      "text/plain": [
       "          Model  Year      Encoder  Task  Score\n",
       "0         ERNIE  2019  Transformer  CoLA   75.5\n",
       "1            T5  2019  Transformer  CoLA   71.6\n",
       "2       RoBERTa  2019  Transformer  CoLA   67.8\n",
       "3          BERT  2018  Transformer  CoLA   60.5\n",
       "4   BiLSTM+ELMo  2018         LSTM  CoLA   32.1\n",
       "..          ...   ...          ...   ...    ...\n",
       "59         BERT  2018  Transformer   RTE   70.1\n",
       "60  BiLSTM+ELMo  2018         LSTM   RTE   57.4\n",
       "61  BiLSTM+CoVe  2017         LSTM   RTE   52.7\n",
       "62  BiLSTM+Attn  2017         LSTM   RTE   58.4\n",
       "63       BiLSTM  2017         LSTM   RTE   57.4\n",
       "\n",
       "[64 rows x 5 columns]"
      ]
     },
     "execution_count": 25,
     "metadata": {},
     "output_type": "execute_result"
    }
   ],
   "source": [
    "glue = sns.load_dataset(\"glue\")\n",
    "glue\n",
    "\n",
    "# GLUE is a benchmark designed to evaluate and compare the performance of different language models across multiple tasks.\n",
    "# Within, we can compare language models' performance, year trend to see if models improving year over year, understand how different encoder architecture perform, observe which language is better at which task, etc."
   ]
  },
  {
   "cell_type": "markdown",
   "id": "e46e59ad-2477-46d1-9123-5b4e2be04cef",
   "metadata": {
    "jp-MarkdownHeadingCollapsed": true
   },
   "source": [
    "<p style=\"font-family: tahoma ; color: green;\"><b>How many unique models are in the dataset?</b></p>"
   ]
  },
  {
   "cell_type": "code",
   "execution_count": 26,
   "id": "0705ef0d-9aa3-4a76-9581-35cf0a74ffc8",
   "metadata": {},
   "outputs": [
    {
     "data": {
      "text/plain": [
       "array(['ERNIE', 'T5', 'RoBERTa', 'BERT', 'BiLSTM+ELMo', 'BiLSTM+CoVe',\n",
       "       'BiLSTM+Attn', 'BiLSTM'], dtype=object)"
      ]
     },
     "execution_count": 26,
     "metadata": {},
     "output_type": "execute_result"
    }
   ],
   "source": [
    "glue[\"Model\"].unique() # List of each Model"
   ]
  },
  {
   "cell_type": "code",
   "execution_count": 27,
   "id": "c4aed47b-968a-4482-8191-ba40877d1195",
   "metadata": {},
   "outputs": [
    {
     "data": {
      "text/plain": [
       "8"
      ]
     },
     "execution_count": 27,
     "metadata": {},
     "output_type": "execute_result"
    }
   ],
   "source": [
    "glue[\"Model\"].nunique() # Count of each different Models"
   ]
  },
  {
   "cell_type": "markdown",
   "id": "a12bc668-071c-4272-aaf0-5e047659c5ea",
   "metadata": {},
   "source": [
    "<p style=\"font-family: tahoma ; color: green;\"><b>Which years are represented in the dataset, and which is the earliest/latest year?</b></p>"
   ]
  },
  {
   "cell_type": "code",
   "execution_count": 28,
   "id": "57b8c55d-38c8-4426-bb3c-5d61b0768477",
   "metadata": {},
   "outputs": [
    {
     "data": {
      "text/plain": [
       "array([2019, 2018, 2017])"
      ]
     },
     "execution_count": 28,
     "metadata": {},
     "output_type": "execute_result"
    }
   ],
   "source": [
    "glue[\"Year\"].unique() # Years models developed"
   ]
  },
  {
   "cell_type": "code",
   "execution_count": 29,
   "id": "ef8c024e-98b8-44f7-8cce-5297b74d4da6",
   "metadata": {},
   "outputs": [
    {
     "data": {
      "text/plain": [
       "2017"
      ]
     },
     "execution_count": 29,
     "metadata": {},
     "output_type": "execute_result"
    }
   ],
   "source": [
    "glue[\"Year\"].min() # Earliest year"
   ]
  },
  {
   "cell_type": "code",
   "execution_count": 30,
   "id": "e3dfd063-6634-40ee-a43c-db614a769c51",
   "metadata": {},
   "outputs": [
    {
     "data": {
      "text/plain": [
       "2019"
      ]
     },
     "execution_count": 30,
     "metadata": {},
     "output_type": "execute_result"
    }
   ],
   "source": [
    "glue[\"Year\"].max() # Latest year"
   ]
  },
  {
   "cell_type": "markdown",
   "id": "3dc34e97-fa0a-48c6-8e6b-658f42e4b44c",
   "metadata": {},
   "source": [
    "<p style=\"font-family: tahoma ; color: green;\"><b>What are the unique tasks included in the GLUE dataset?</b></p>"
   ]
  },
  {
   "cell_type": "code",
   "execution_count": 31,
   "id": "b7616acd-4d06-4f76-8e74-90e4739767ef",
   "metadata": {},
   "outputs": [
    {
     "data": {
      "text/plain": [
       "array(['CoLA', 'SST-2', 'MRPC', 'STS-B', 'QQP', 'MNLI', 'QNLI', 'RTE'],\n",
       "      dtype=object)"
      ]
     },
     "execution_count": 31,
     "metadata": {},
     "output_type": "execute_result"
    }
   ],
   "source": [
    "glue[\"Task\"].unique() # List of each Task"
   ]
  },
  {
   "cell_type": "code",
   "execution_count": 32,
   "id": "1fd9d3f9-2456-49de-aa54-c4c871317c6e",
   "metadata": {},
   "outputs": [
    {
     "data": {
      "text/plain": [
       "8"
      ]
     },
     "execution_count": 32,
     "metadata": {},
     "output_type": "execute_result"
    }
   ],
   "source": [
    "glue[\"Task\"].nunique() # Count of each different Tasks"
   ]
  },
  {
   "cell_type": "markdown",
   "id": "44dd0546-eddc-4fad-b507-69de74867844",
   "metadata": {},
   "source": [
    "<p style=\"font-family: tahoma ; color: green;\"><b>Find the maximum and minimum score overall.?</b></p>"
   ]
  },
  {
   "cell_type": "code",
   "execution_count": 33,
   "id": "087ed9fb-128d-4fcb-9c59-7f39beb24358",
   "metadata": {},
   "outputs": [
    {
     "data": {
      "text/plain": [
       "11.6"
      ]
     },
     "execution_count": 33,
     "metadata": {},
     "output_type": "execute_result"
    }
   ],
   "source": [
    "glue[\"Score\"].min() # Minimum score overall"
   ]
  },
  {
   "cell_type": "code",
   "execution_count": 34,
   "id": "a7ec6e57-630f-4327-a2a5-a6d2249a74b4",
   "metadata": {},
   "outputs": [
    {
     "data": {
      "text/plain": [
       "97.8"
      ]
     },
     "execution_count": 34,
     "metadata": {},
     "output_type": "execute_result"
    }
   ],
   "source": [
    "glue[\"Score\"].max() # Maximum score overall"
   ]
  },
  {
   "cell_type": "markdown",
   "id": "c0fe0153-11d3-4573-8f44-693e2b57cb68",
   "metadata": {},
   "source": [
    "<p style=\"font-family: tahoma ; color: green;\"><b>Which model achieved the highest score overall?</b></p>"
   ]
  },
  {
   "cell_type": "code",
   "execution_count": 35,
   "id": "1373e29c-32ad-47e2-b006-42893e9e8da8",
   "metadata": {},
   "outputs": [
    {
     "data": {
      "text/plain": [
       "Model            ERNIE\n",
       "Year              2019\n",
       "Encoder    Transformer\n",
       "Task             SST-2\n",
       "Score             97.8\n",
       "Name: 8, dtype: object"
      ]
     },
     "execution_count": 35,
     "metadata": {},
     "output_type": "execute_result"
    }
   ],
   "source": [
    "glue.loc[glue['Score'].idxmax()]"
   ]
  },
  {
   "cell_type": "code",
   "execution_count": 36,
   "id": "6aa24019-ee44-466b-9273-d4df30ea7b21",
   "metadata": {},
   "outputs": [
    {
     "data": {
      "text/html": [
       "<div>\n",
       "<style scoped>\n",
       "    .dataframe tbody tr th:only-of-type {\n",
       "        vertical-align: middle;\n",
       "    }\n",
       "\n",
       "    .dataframe tbody tr th {\n",
       "        vertical-align: top;\n",
       "    }\n",
       "\n",
       "    .dataframe thead th {\n",
       "        text-align: right;\n",
       "    }\n",
       "</style>\n",
       "<table border=\"1\" class=\"dataframe\">\n",
       "  <thead>\n",
       "    <tr style=\"text-align: right;\">\n",
       "      <th></th>\n",
       "      <th>Model</th>\n",
       "      <th>Year</th>\n",
       "      <th>Encoder</th>\n",
       "      <th>Task</th>\n",
       "      <th>Score</th>\n",
       "    </tr>\n",
       "  </thead>\n",
       "  <tbody>\n",
       "    <tr>\n",
       "      <th>8</th>\n",
       "      <td>ERNIE</td>\n",
       "      <td>2019</td>\n",
       "      <td>Transformer</td>\n",
       "      <td>SST-2</td>\n",
       "      <td>97.8</td>\n",
       "    </tr>\n",
       "  </tbody>\n",
       "</table>\n",
       "</div>"
      ],
      "text/plain": [
       "   Model  Year      Encoder   Task  Score\n",
       "8  ERNIE  2019  Transformer  SST-2   97.8"
      ]
     },
     "execution_count": 36,
     "metadata": {},
     "output_type": "execute_result"
    }
   ],
   "source": [
    "glue[glue[\"Score\"] == glue[\"Score\"].max()][[\"Model\",\"Year\",\"Encoder\",\"Task\",\"Score\"]]"
   ]
  },
  {
   "cell_type": "markdown",
   "id": "58920ad3-be47-41fb-9212-ab2b111cce19",
   "metadata": {},
   "source": [
    "<p style=\"font-family: tahoma ; color: orange;\"><b>Calculate the average score per model across all tasks.</b></p>"
   ]
  },
  {
   "cell_type": "code",
   "execution_count": 37,
   "id": "62aed20d-8e79-4f61-9e39-8eebbdf5dcbc",
   "metadata": {},
   "outputs": [
    {
     "data": {
      "text/plain": [
       "Model\n",
       "ERNIE          89.7000\n",
       "T5             89.0000\n",
       "RoBERTa        87.2125\n",
       "BERT           81.7375\n",
       "BiLSTM+ELMo    67.2000\n",
       "BiLSTM+Attn    64.8375\n",
       "BiLSTM         63.3250\n",
       "BiLSTM+CoVe    61.6250\n",
       "Name: Score, dtype: float64"
      ]
     },
     "execution_count": 37,
     "metadata": {},
     "output_type": "execute_result"
    }
   ],
   "source": [
    "glue.groupby(\"Model\")[\"Score\"].agg(\"mean\").sort_values(ascending = False)"
   ]
  },
  {
   "cell_type": "markdown",
   "id": "ae87c790-9af9-40e8-a46f-357ea9d1e6c0",
   "metadata": {},
   "source": [
    "<p style=\"font-family: tahoma ; color: orange;\"><b>Calculate the average score per task across all models.</b></p>"
   ]
  },
  {
   "cell_type": "code",
   "execution_count": 38,
   "id": "28d2a21b-a910-4c1e-b673-bbf470b22772",
   "metadata": {},
   "outputs": [
    {
     "data": {
      "text/plain": [
       "Task\n",
       "SST-2    90.4875\n",
       "MRPC     87.1750\n",
       "QNLI     84.6875\n",
       "STS-B    80.4625\n",
       "MNLI     78.4750\n",
       "RTE      71.2000\n",
       "QQP      67.6250\n",
       "CoLA     44.5250\n",
       "Name: Score, dtype: float64"
      ]
     },
     "execution_count": 38,
     "metadata": {},
     "output_type": "execute_result"
    }
   ],
   "source": [
    "glue.groupby(\"Task\")[\"Score\"].agg(\"mean\").sort_values(ascending = False)"
   ]
  },
  {
   "cell_type": "markdown",
   "id": "44eb7b8d-e541-495f-910d-1a145b9a62b6",
   "metadata": {},
   "source": [
    "<p style=\"font-family: tahoma ; color: orange;\"><b>For each year, compute the average score of all models released that year.</b></p>"
   ]
  },
  {
   "cell_type": "code",
   "execution_count": 39,
   "id": "c7bd2f13-316f-4a9e-8332-aa386e0ee17c",
   "metadata": {},
   "outputs": [
    {
     "data": {
      "text/plain": [
       "Year\n",
       "2019    88.63750\n",
       "2018    74.46875\n",
       "2017    63.26250\n",
       "Name: Score, dtype: float64"
      ]
     },
     "execution_count": 39,
     "metadata": {},
     "output_type": "execute_result"
    }
   ],
   "source": [
    "glue.groupby(\"Year\")[\"Score\"].agg(\"mean\").sort_values(ascending = False)"
   ]
  },
  {
   "cell_type": "markdown",
   "id": "d8c0d9a5-8ec6-4a9c-b9df-95513766d612",
   "metadata": {},
   "source": [
    "<p style=\"font-family: tahoma ; color: orange;\"><b>Which task has the highest overall average score? Which has the lowest?</b></p>"
   ]
  },
  {
   "cell_type": "code",
   "execution_count": 40,
   "id": "6627ba77-a03c-44bd-b77c-e8f258846b65",
   "metadata": {},
   "outputs": [
    {
     "data": {
      "text/plain": [
       "(('SST-2', 90.4875), ('CoLA', 44.525))"
      ]
     },
     "execution_count": 40,
     "metadata": {},
     "output_type": "execute_result"
    }
   ],
   "source": [
    "task_means = glue.groupby(\"Task\")[\"Score\"].mean()\n",
    "highest = task_means.idxmax(), task_means.max()\n",
    "lowest = task_means.idxmin(), task_means.min()\n",
    "highest, lowest"
   ]
  },
  {
   "cell_type": "markdown",
   "id": "4b710172-0f06-4864-ae0c-07ae68f30aa2",
   "metadata": {},
   "source": [
    "<p style=\"font-family: tahoma ; color: orange;\"><b>Compare the average performance of encoder types (e.g., Transformer vs others).</b></p>"
   ]
  },
  {
   "cell_type": "code",
   "execution_count": 41,
   "id": "f6fdaee9-fec5-46fd-be7c-45e75bffa35a",
   "metadata": {},
   "outputs": [
    {
     "data": {
      "text/plain": [
       "Encoder\n",
       "LSTM           64.246875\n",
       "Transformer    86.912500\n",
       "Name: Score, dtype: float64"
      ]
     },
     "execution_count": 41,
     "metadata": {},
     "output_type": "execute_result"
    }
   ],
   "source": [
    "glue.groupby(\"Encoder\")[\"Score\"].mean()"
   ]
  },
  {
   "cell_type": "markdown",
   "id": "68786b53-2902-426f-990c-391a846c58ee",
   "metadata": {},
   "source": [
    "<p style=\"font-family: tahoma ; color: orange;\"><b>For each model, find its best performing task (task with highest score).</b></p>"
   ]
  },
  {
   "cell_type": "code",
   "execution_count": 42,
   "id": "667135b0-fd64-46dd-a83c-54ff9900e5d9",
   "metadata": {},
   "outputs": [
    {
     "data": {
      "text/html": [
       "<div>\n",
       "<style scoped>\n",
       "    .dataframe tbody tr th:only-of-type {\n",
       "        vertical-align: middle;\n",
       "    }\n",
       "\n",
       "    .dataframe tbody tr th {\n",
       "        vertical-align: top;\n",
       "    }\n",
       "\n",
       "    .dataframe thead th {\n",
       "        text-align: right;\n",
       "    }\n",
       "</style>\n",
       "<table border=\"1\" class=\"dataframe\">\n",
       "  <thead>\n",
       "    <tr style=\"text-align: right;\">\n",
       "      <th></th>\n",
       "      <th>Task</th>\n",
       "      <th>Score</th>\n",
       "    </tr>\n",
       "    <tr>\n",
       "      <th>Model</th>\n",
       "      <th></th>\n",
       "      <th></th>\n",
       "    </tr>\n",
       "  </thead>\n",
       "  <tbody>\n",
       "    <tr>\n",
       "      <th>BERT</th>\n",
       "      <td>SST-2</td>\n",
       "      <td>94.9</td>\n",
       "    </tr>\n",
       "    <tr>\n",
       "      <th>BiLSTM</th>\n",
       "      <td>SST-2</td>\n",
       "      <td>82.8</td>\n",
       "    </tr>\n",
       "    <tr>\n",
       "      <th>BiLSTM+Attn</th>\n",
       "      <td>MRPC</td>\n",
       "      <td>83.9</td>\n",
       "    </tr>\n",
       "    <tr>\n",
       "      <th>BiLSTM+CoVe</th>\n",
       "      <td>SST-2</td>\n",
       "      <td>81.9</td>\n",
       "    </tr>\n",
       "    <tr>\n",
       "      <th>BiLSTM+ELMo</th>\n",
       "      <td>SST-2</td>\n",
       "      <td>89.3</td>\n",
       "    </tr>\n",
       "    <tr>\n",
       "      <th>ERNIE</th>\n",
       "      <td>SST-2</td>\n",
       "      <td>97.8</td>\n",
       "    </tr>\n",
       "    <tr>\n",
       "      <th>RoBERTa</th>\n",
       "      <td>SST-2</td>\n",
       "      <td>96.7</td>\n",
       "    </tr>\n",
       "    <tr>\n",
       "      <th>T5</th>\n",
       "      <td>SST-2</td>\n",
       "      <td>97.5</td>\n",
       "    </tr>\n",
       "  </tbody>\n",
       "</table>\n",
       "</div>"
      ],
      "text/plain": [
       "              Task  Score\n",
       "Model                    \n",
       "BERT         SST-2   94.9\n",
       "BiLSTM       SST-2   82.8\n",
       "BiLSTM+Attn   MRPC   83.9\n",
       "BiLSTM+CoVe  SST-2   81.9\n",
       "BiLSTM+ELMo  SST-2   89.3\n",
       "ERNIE        SST-2   97.8\n",
       "RoBERTa      SST-2   96.7\n",
       "T5           SST-2   97.5"
      ]
     },
     "execution_count": 42,
     "metadata": {},
     "output_type": "execute_result"
    }
   ],
   "source": [
    "glue.groupby(\"Model\").apply(lambda x: x.loc[x[\"Score\"].idxmax(), [\"Task\", \"Score\"]])"
   ]
  },
  {
   "cell_type": "markdown",
   "id": "d02f644e-8637-45b8-9e52-946bf4fbc3be",
   "metadata": {},
   "source": [
    "<p style=\"font-family: tahoma ; color: orange;\"><b>Find the trend over years: do average scores increase, decrease, or stay flat?</b></p>"
   ]
  },
  {
   "cell_type": "code",
   "execution_count": 43,
   "id": "cde2a0b3-1e2e-4ef6-9e9d-946fba4d5577",
   "metadata": {},
   "outputs": [
    {
     "data": {
      "text/html": [
       "<div>\n",
       "<style scoped>\n",
       "    .dataframe tbody tr th:only-of-type {\n",
       "        vertical-align: middle;\n",
       "    }\n",
       "\n",
       "    .dataframe tbody tr th {\n",
       "        vertical-align: top;\n",
       "    }\n",
       "\n",
       "    .dataframe thead th {\n",
       "        text-align: right;\n",
       "    }\n",
       "</style>\n",
       "<table border=\"1\" class=\"dataframe\">\n",
       "  <thead>\n",
       "    <tr style=\"text-align: right;\">\n",
       "      <th></th>\n",
       "      <th>Model</th>\n",
       "      <th>Year</th>\n",
       "      <th>Encoder</th>\n",
       "      <th>Task</th>\n",
       "      <th>Score</th>\n",
       "      <th>Year_Mean</th>\n",
       "      <th>Model_Mean</th>\n",
       "      <th>Encoder_Mean</th>\n",
       "    </tr>\n",
       "  </thead>\n",
       "  <tbody>\n",
       "    <tr>\n",
       "      <th>0</th>\n",
       "      <td>ERNIE</td>\n",
       "      <td>2019</td>\n",
       "      <td>Transformer</td>\n",
       "      <td>CoLA</td>\n",
       "      <td>75.5</td>\n",
       "      <td>88.63750</td>\n",
       "      <td>89.7000</td>\n",
       "      <td>86.912500</td>\n",
       "    </tr>\n",
       "    <tr>\n",
       "      <th>1</th>\n",
       "      <td>T5</td>\n",
       "      <td>2019</td>\n",
       "      <td>Transformer</td>\n",
       "      <td>CoLA</td>\n",
       "      <td>71.6</td>\n",
       "      <td>88.63750</td>\n",
       "      <td>89.0000</td>\n",
       "      <td>86.912500</td>\n",
       "    </tr>\n",
       "    <tr>\n",
       "      <th>2</th>\n",
       "      <td>RoBERTa</td>\n",
       "      <td>2019</td>\n",
       "      <td>Transformer</td>\n",
       "      <td>CoLA</td>\n",
       "      <td>67.8</td>\n",
       "      <td>88.63750</td>\n",
       "      <td>87.2125</td>\n",
       "      <td>86.912500</td>\n",
       "    </tr>\n",
       "    <tr>\n",
       "      <th>3</th>\n",
       "      <td>BERT</td>\n",
       "      <td>2018</td>\n",
       "      <td>Transformer</td>\n",
       "      <td>CoLA</td>\n",
       "      <td>60.5</td>\n",
       "      <td>74.46875</td>\n",
       "      <td>81.7375</td>\n",
       "      <td>86.912500</td>\n",
       "    </tr>\n",
       "    <tr>\n",
       "      <th>4</th>\n",
       "      <td>BiLSTM+ELMo</td>\n",
       "      <td>2018</td>\n",
       "      <td>LSTM</td>\n",
       "      <td>CoLA</td>\n",
       "      <td>32.1</td>\n",
       "      <td>74.46875</td>\n",
       "      <td>67.2000</td>\n",
       "      <td>64.246875</td>\n",
       "    </tr>\n",
       "  </tbody>\n",
       "</table>\n",
       "</div>"
      ],
      "text/plain": [
       "         Model  Year      Encoder  Task  Score  Year_Mean  Model_Mean  \\\n",
       "0        ERNIE  2019  Transformer  CoLA   75.5   88.63750     89.7000   \n",
       "1           T5  2019  Transformer  CoLA   71.6   88.63750     89.0000   \n",
       "2      RoBERTa  2019  Transformer  CoLA   67.8   88.63750     87.2125   \n",
       "3         BERT  2018  Transformer  CoLA   60.5   74.46875     81.7375   \n",
       "4  BiLSTM+ELMo  2018         LSTM  CoLA   32.1   74.46875     67.2000   \n",
       "\n",
       "   Encoder_Mean  \n",
       "0     86.912500  \n",
       "1     86.912500  \n",
       "2     86.912500  \n",
       "3     86.912500  \n",
       "4     64.246875  "
      ]
     },
     "execution_count": 43,
     "metadata": {},
     "output_type": "execute_result"
    }
   ],
   "source": [
    "glue[\"Year_Mean\"] = glue.groupby(\"Year\")[\"Score\"].transform(\"mean\") # Added year's average as new column\n",
    "glue[\"Model_Mean\"] = glue.groupby(\"Model\")[\"Score\"].transform(\"mean\") # Added model's average as new column\n",
    "glue[\"Encoder_Mean\"] = glue.groupby(\"Encoder\")[\"Score\"].transform(\"mean\") # Added encoder's average as new column\n",
    "glue.head()"
   ]
  },
  {
   "cell_type": "code",
   "execution_count": 44,
   "id": "972f12d5-16b0-488a-88a4-5e666da3fe52",
   "metadata": {},
   "outputs": [
    {
     "data": {
      "image/png": "[encoded data removed]",
      "text/plain": [
       "<Figure size 600x400 with 1 Axes>"
      ]
     },
     "metadata": {},
     "output_type": "display_data"
    }
   ],
   "source": [
    "plt.figure(figsize = (6,4))\n",
    "sns.barplot(glue, x = \"Year\", y = \"Year_Mean\", palette = \"husl\")\n",
    "plt.title(\"Performance over Years\")\n",
    "plt.show() # Performance is increasing year over year"
   ]
  },
  {
   "cell_type": "markdown",
   "id": "c85c34d4-811b-4111-8535-853446d7e2f7",
   "metadata": {},
   "source": [
    "<p style=\"font-family: tahoma ; color: orange;\"><b>For a chosen task (e.g., \"STT-2\"), rank all models by their score.</b></p>"
   ]
  },
  {
   "cell_type": "code",
   "execution_count": 45,
   "id": "24a11365-f769-43ee-be28-028d5fb99d63",
   "metadata": {},
   "outputs": [
    {
     "data": {
      "text/html": [
       "<div>\n",
       "<style scoped>\n",
       "    .dataframe tbody tr th:only-of-type {\n",
       "        vertical-align: middle;\n",
       "    }\n",
       "\n",
       "    .dataframe tbody tr th {\n",
       "        vertical-align: top;\n",
       "    }\n",
       "\n",
       "    .dataframe thead th {\n",
       "        text-align: right;\n",
       "    }\n",
       "</style>\n",
       "<table border=\"1\" class=\"dataframe\">\n",
       "  <thead>\n",
       "    <tr style=\"text-align: right;\">\n",
       "      <th></th>\n",
       "      <th>Model</th>\n",
       "      <th>Score</th>\n",
       "    </tr>\n",
       "  </thead>\n",
       "  <tbody>\n",
       "    <tr>\n",
       "      <th>16</th>\n",
       "      <td>ERNIE</td>\n",
       "      <td>93.9</td>\n",
       "    </tr>\n",
       "    <tr>\n",
       "      <th>17</th>\n",
       "      <td>T5</td>\n",
       "      <td>92.8</td>\n",
       "    </tr>\n",
       "    <tr>\n",
       "      <th>18</th>\n",
       "      <td>RoBERTa</td>\n",
       "      <td>92.3</td>\n",
       "    </tr>\n",
       "    <tr>\n",
       "      <th>19</th>\n",
       "      <td>BERT</td>\n",
       "      <td>89.3</td>\n",
       "    </tr>\n",
       "    <tr>\n",
       "      <th>20</th>\n",
       "      <td>BiLSTM+ELMo</td>\n",
       "      <td>84.7</td>\n",
       "    </tr>\n",
       "    <tr>\n",
       "      <th>22</th>\n",
       "      <td>BiLSTM+Attn</td>\n",
       "      <td>83.9</td>\n",
       "    </tr>\n",
       "    <tr>\n",
       "      <th>23</th>\n",
       "      <td>BiLSTM</td>\n",
       "      <td>81.8</td>\n",
       "    </tr>\n",
       "    <tr>\n",
       "      <th>21</th>\n",
       "      <td>BiLSTM+CoVe</td>\n",
       "      <td>78.7</td>\n",
       "    </tr>\n",
       "  </tbody>\n",
       "</table>\n",
       "</div>"
      ],
      "text/plain": [
       "          Model  Score\n",
       "16        ERNIE   93.9\n",
       "17           T5   92.8\n",
       "18      RoBERTa   92.3\n",
       "19         BERT   89.3\n",
       "20  BiLSTM+ELMo   84.7\n",
       "22  BiLSTM+Attn   83.9\n",
       "23       BiLSTM   81.8\n",
       "21  BiLSTM+CoVe   78.7"
      ]
     },
     "execution_count": 45,
     "metadata": {},
     "output_type": "execute_result"
    }
   ],
   "source": [
    "task_score = glue[glue[\"Task\"] == \"MRPC\"].sort_values(\"Score\", ascending = False)\n",
    "task_score[[\"Model\",\"Score\"]]"
   ]
  },
  {
   "cell_type": "markdown",
   "id": "d8e78f27-6eed-43a5-92c2-cd25392576ab",
   "metadata": {},
   "source": [
    "<p style=\"font-family: tahoma ; color: orange;\"><b>Plot a bar chart showing average scores of each encoder type.</b></p>"
   ]
  },
  {
   "cell_type": "code",
   "execution_count": 46,
   "id": "d0e402a9-934b-4753-ba7e-636a812f6271",
   "metadata": {},
   "outputs": [
    {
     "data": {
      "image/png": "[encoded data removed]",
      "text/plain": [
       "<Figure size 600x400 with 1 Axes>"
      ]
     },
     "metadata": {},
     "output_type": "display_data"
    }
   ],
   "source": [
    "plt.figure(figsize = (6,4))\n",
    "sns.barplot(glue, x = \"Encoder\", y = \"Encoder_Mean\", palette = \"icefire\")\n",
    "plt.title(\"Performance across Encoders\")\n",
    "plt.show()"
   ]
  },
  {
   "cell_type": "markdown",
   "id": "a76e66e5-614f-42dd-b9c9-58134f4aa755",
   "metadata": {},
   "source": [
    "<p style=\"font-family: tahoma ; color: orange;\"><b>Which model shows the largest variation (range) in performance across tasks?</b></p>"
   ]
  },
  {
   "cell_type": "code",
   "execution_count": 47,
   "id": "5d8b6853-d969-4a68-b5a9-39def4d7bd1b",
   "metadata": {},
   "outputs": [
    {
     "data": {
      "text/plain": [
       "('BiLSTM', 71.2)"
      ]
     },
     "execution_count": 47,
     "metadata": {},
     "output_type": "execute_result"
    }
   ],
   "source": [
    "variation = glue.groupby(\"Model\")[\"Score\"].agg(lambda x: x.max() - x.min())\n",
    "variation.idxmax(), variation.max()"
   ]
  },
  {
   "cell_type": "markdown",
   "id": "f13dbea4-c7a4-492a-99e8-0c1f494f53a4",
   "metadata": {},
   "source": [
    "<p style=\"font-family: tahoma ; color: red;\"><b>Calculate the standard deviation of scores per task — which task is the hardest (highest variability)?</b></p>"
   ]
  },
  {
   "cell_type": "code",
   "execution_count": 51,
   "id": "411afb7f-c921-4c4a-a8b1-768350cc5bb0",
   "metadata": {},
   "outputs": [
    {
     "data": {
      "text/plain": [
       "Task\n",
       "CoLA     26.931858\n",
       "RTE      17.327517\n",
       "MNLI     12.989969\n",
       "STS-B    12.123641\n",
       "QNLI     11.796542\n",
       "QQP       7.097837\n",
       "SST-2     7.081452\n",
       "MRPC      5.672175\n",
       "Name: Score, dtype: float64"
      ]
     },
     "execution_count": 51,
     "metadata": {},
     "output_type": "execute_result"
    }
   ],
   "source": [
    "task_std = glue.groupby(\"Task\")[\"Score\"].std().sort_values(ascending = False)\n",
    "task_std"
   ]
  },
  {
   "cell_type": "code",
   "execution_count": 53,
   "id": "ac8ac253-c519-4324-8b7a-c7c2c0efe344",
   "metadata": {},
   "outputs": [
    {
     "data": {
      "text/plain": [
       "('CoLA', 26.93185845796758)"
      ]
     },
     "execution_count": 53,
     "metadata": {},
     "output_type": "execute_result"
    }
   ],
   "source": [
    "task_std.idxmax(), task_std.max()"
   ]
  },
  {
   "cell_type": "markdown",
   "id": "126687cd-f6af-48fa-afaa-7d12a1032e63",
   "metadata": {},
   "source": [
    "<p style=\"font-family: tahoma ; color: red;\"><b>Use a heatmap: Models on the y-axis, Tasks on the x-axis, Scores as the color. What insights do you get?</b></p>"
   ]
  },
  {
   "cell_type": "code",
   "execution_count": 70,
   "id": "f67dd5a2-13db-4347-96f4-ff2d814d4cfe",
   "metadata": {},
   "outputs": [
    {
     "data": {
      "image/png": "[encoded data removed]",
      "text/plain": [
       "<Figure size 800x600 with 2 Axes>"
      ]
     },
     "metadata": {},
     "output_type": "display_data"
    }
   ],
   "source": [
    "pivot = glue.pivot_table(index = \"Model\", columns = \"Task\", values = \"Score\", aggfunc = \"mean\")\n",
    "\n",
    "plt.figure(figsize = (8,6))\n",
    "sns.heatmap(pivot, annot = True, cmap = \"viridis\", fmt = \".1f\", linewidths = 1, cbar_kws = {\"label\" : \"Score\"})\n",
    "plt.title(\"Model vs Task\")\n",
    "plt.ylabel(\"Model\")\n",
    "plt.xlabel(\"Task\")\n",
    "plt.tight_layout()\n",
    "\n",
    "plt.show()"
   ]
  },
  {
   "cell_type": "markdown",
   "id": "eab48409-0e06-4566-a181-d7cf49074d98",
   "metadata": {},
   "source": [
    "<p style=\"font-family: tahoma ; color: red;\"><b>Compare Transformers vs Non-Transformers: are Transformers consistently better?</b></p>"
   ]
  },
  {
   "cell_type": "code",
   "execution_count": null,
   "id": "9ca42a6f-a523-4b06-886c-26f3ba0a61ee",
   "metadata": {},
   "outputs": [],
   "source": []
  },
  {
   "cell_type": "code",
   "execution_count": null,
   "id": "665ab775-b85a-473d-97bf-76f072ae5ed4",
   "metadata": {},
   "outputs": [],
   "source": []
  },
  {
   "cell_type": "markdown",
   "id": "e28de914-6b46-4709-91ec-c0f4f4c4a4f5",
   "metadata": {},
   "source": [
    "<p style=\"font-family: tahoma ; color: red;\"><b>Create a barplot of year vs. average score per model — does performance over time look exponential or linear?</b></p>"
   ]
  },
  {
   "cell_type": "code",
   "execution_count": 94,
   "id": "4f7eaa08-7833-4c0d-b310-2a65bc50d8a2",
   "metadata": {},
   "outputs": [
    {
     "data": {
      "image/png": "[encoded data removed]",
      "text/plain": [
       "<Figure size 1000x600 with 1 Axes>"
      ]
     },
     "metadata": {},
     "output_type": "display_data"
    }
   ],
   "source": [
    "plt.figure(figsize = (10,6))\n",
    "sns.barplot(glue, x = \"Year\", y = \"Model_Mean\", hue = \"Year\", palette = \"crest\")\n",
    "plt.title(\"Model Average Performance per Year\")\n",
    "plt.ylabel(\"Average per Model\")\n",
    "\n",
    "plt.show()"
   ]
  },
  {
   "cell_type": "markdown",
   "id": "07ac4ac0-b341-4f24-9ecf-340d8273ebe3",
   "metadata": {},
   "source": [
    "<p style=\"font-family: tahoma ; color: red;\"><b>Which task has the most models achieving near-perfect performance (score > 90)?</b></p>"
   ]
  },
  {
   "cell_type": "code",
   "execution_count": 95,
   "id": "a83f3586-2724-4a2c-ad0b-9d2b4bc44421",
   "metadata": {},
   "outputs": [
    {
     "data": {
      "text/plain": [
       "Task\n",
       "SST-2    4\n",
       "QNLI     4\n",
       "MRPC     3\n",
       "MNLI     3\n",
       "STS-B    3\n",
       "RTE      2\n",
       "Name: Model, dtype: int64"
      ]
     },
     "execution_count": 95,
     "metadata": {},
     "output_type": "execute_result"
    }
   ],
   "source": [
    "perf_score = glue[glue[\"Score\"] > 90]\n",
    "\n",
    "perf_score.groupby(\"Task\")[\"Model\"].nunique().sort_values(ascending = False)"
   ]
  },
  {
   "cell_type": "markdown",
   "id": "fb39a471-8c11-4e49-a2c0-6f95f36101dd",
   "metadata": {},
   "source": [
    "<p style=\"font-family: tahoma ; color: red;\"><b>For each encoder, calculate the best model’s score - worst model’s score (spread). Which encoder is the most consistent?</b></p>"
   ]
  },
  {
   "cell_type": "code",
   "execution_count": 102,
   "id": "1c2ec145-66ec-4bbc-9b8b-4e24bcbc7968",
   "metadata": {},
   "outputs": [
    {
     "data": {
      "text/html": [
       "<div>\n",
       "<style scoped>\n",
       "    .dataframe tbody tr th:only-of-type {\n",
       "        vertical-align: middle;\n",
       "    }\n",
       "\n",
       "    .dataframe tbody tr th {\n",
       "        vertical-align: top;\n",
       "    }\n",
       "\n",
       "    .dataframe thead th {\n",
       "        text-align: right;\n",
       "    }\n",
       "</style>\n",
       "<table border=\"1\" class=\"dataframe\">\n",
       "  <thead>\n",
       "    <tr style=\"text-align: right;\">\n",
       "      <th></th>\n",
       "      <th>Encoder</th>\n",
       "      <th>Model</th>\n",
       "      <th>Score</th>\n",
       "    </tr>\n",
       "  </thead>\n",
       "  <tbody>\n",
       "    <tr>\n",
       "      <th>0</th>\n",
       "      <td>LSTM</td>\n",
       "      <td>BiLSTM</td>\n",
       "      <td>63.3250</td>\n",
       "    </tr>\n",
       "    <tr>\n",
       "      <th>1</th>\n",
       "      <td>LSTM</td>\n",
       "      <td>BiLSTM+Attn</td>\n",
       "      <td>64.8375</td>\n",
       "    </tr>\n",
       "    <tr>\n",
       "      <th>2</th>\n",
       "      <td>LSTM</td>\n",
       "      <td>BiLSTM+CoVe</td>\n",
       "      <td>61.6250</td>\n",
       "    </tr>\n",
       "    <tr>\n",
       "      <th>3</th>\n",
       "      <td>LSTM</td>\n",
       "      <td>BiLSTM+ELMo</td>\n",
       "      <td>67.2000</td>\n",
       "    </tr>\n",
       "    <tr>\n",
       "      <th>4</th>\n",
       "      <td>Transformer</td>\n",
       "      <td>BERT</td>\n",
       "      <td>81.7375</td>\n",
       "    </tr>\n",
       "    <tr>\n",
       "      <th>5</th>\n",
       "      <td>Transformer</td>\n",
       "      <td>ERNIE</td>\n",
       "      <td>89.7000</td>\n",
       "    </tr>\n",
       "    <tr>\n",
       "      <th>6</th>\n",
       "      <td>Transformer</td>\n",
       "      <td>RoBERTa</td>\n",
       "      <td>87.2125</td>\n",
       "    </tr>\n",
       "    <tr>\n",
       "      <th>7</th>\n",
       "      <td>Transformer</td>\n",
       "      <td>T5</td>\n",
       "      <td>89.0000</td>\n",
       "    </tr>\n",
       "  </tbody>\n",
       "</table>\n",
       "</div>"
      ],
      "text/plain": [
       "       Encoder        Model    Score\n",
       "0         LSTM       BiLSTM  63.3250\n",
       "1         LSTM  BiLSTM+Attn  64.8375\n",
       "2         LSTM  BiLSTM+CoVe  61.6250\n",
       "3         LSTM  BiLSTM+ELMo  67.2000\n",
       "4  Transformer         BERT  81.7375\n",
       "5  Transformer        ERNIE  89.7000\n",
       "6  Transformer      RoBERTa  87.2125\n",
       "7  Transformer           T5  89.0000"
      ]
     },
     "execution_count": 102,
     "metadata": {},
     "output_type": "execute_result"
    }
   ],
   "source": [
    "scores = glue.groupby([\"Encoder\",\"Model\"])[\"Score\"].mean().reset_index()\n",
    "scores"
   ]
  },
  {
   "cell_type": "code",
   "execution_count": 108,
   "id": "f3de7744-65ae-47a0-b086-858c432a5756",
   "metadata": {},
   "outputs": [
    {
     "data": {
      "text/html": [
       "<div>\n",
       "<style scoped>\n",
       "    .dataframe tbody tr th:only-of-type {\n",
       "        vertical-align: middle;\n",
       "    }\n",
       "\n",
       "    .dataframe tbody tr th {\n",
       "        vertical-align: top;\n",
       "    }\n",
       "\n",
       "    .dataframe thead th {\n",
       "        text-align: right;\n",
       "    }\n",
       "</style>\n",
       "<table border=\"1\" class=\"dataframe\">\n",
       "  <thead>\n",
       "    <tr style=\"text-align: right;\">\n",
       "      <th></th>\n",
       "      <th>max</th>\n",
       "      <th>min</th>\n",
       "      <th>spread</th>\n",
       "    </tr>\n",
       "    <tr>\n",
       "      <th>Encoder</th>\n",
       "      <th></th>\n",
       "      <th></th>\n",
       "      <th></th>\n",
       "    </tr>\n",
       "  </thead>\n",
       "  <tbody>\n",
       "    <tr>\n",
       "      <th>LSTM</th>\n",
       "      <td>67.2</td>\n",
       "      <td>61.6250</td>\n",
       "      <td>5.5750</td>\n",
       "    </tr>\n",
       "    <tr>\n",
       "      <th>Transformer</th>\n",
       "      <td>89.7</td>\n",
       "      <td>81.7375</td>\n",
       "      <td>7.9625</td>\n",
       "    </tr>\n",
       "  </tbody>\n",
       "</table>\n",
       "</div>"
      ],
      "text/plain": [
       "              max      min  spread\n",
       "Encoder                           \n",
       "LSTM         67.2  61.6250  5.5750\n",
       "Transformer  89.7  81.7375  7.9625"
      ]
     },
     "execution_count": 108,
     "metadata": {},
     "output_type": "execute_result"
    }
   ],
   "source": [
    "spread = scores.groupby(\"Encoder\")[\"Score\"].agg([\"max\",\"min\"])\n",
    "spread[\"spread\"] = spread[\"max\"] - spread[\"min\"]\n",
    "spread.sort_values(\"spread\")"
   ]
  },
  {
   "cell_type": "markdown",
   "id": "9321c2a9-8f19-4fde-9182-4f2921330748",
   "metadata": {},
   "source": [
    "<p style=\"font-family: tahoma ; color: red;\"><b>Build a boxplot of scores by task. Which tasks are most/least “balanced” across models?</b></p>"
   ]
  },
  {
   "cell_type": "code",
   "execution_count": 118,
   "id": "62fdf102-30ad-4bc7-8a80-581344e052f5",
   "metadata": {},
   "outputs": [
    {
     "data": {
      "image/png": "[encoded data removed]",
      "text/plain": [
       "<Figure size 800x600 with 1 Axes>"
      ]
     },
     "metadata": {},
     "output_type": "display_data"
    }
   ],
   "source": [
    "# Create the plot\n",
    "\n",
    "plt.figure(figsize = (8,6))\n",
    "sns.boxplot(glue, x = \"Task\", y = \"Score\", palette = \"husl\")\n",
    "plt.xticks(rotation = 60, ha = \"right\")\n",
    "plt.title(\"Scores per Tasks\")\n",
    "plt.tight_layout()\n",
    "\n",
    "plt.show()"
   ]
  },
  {
   "cell_type": "code",
   "execution_count": 123,
   "id": "6bac298a-710b-40a2-9798-dca59673d856",
   "metadata": {},
   "outputs": [
    {
     "data": {
      "text/plain": [
       "('MRPC', 9.049999999999997)"
      ]
     },
     "execution_count": 123,
     "metadata": {},
     "output_type": "execute_result"
    }
   ],
   "source": [
    "# Find the most balanced via IQR\n",
    "\n",
    "balanced = glue.groupby(\"Task\")[\"Score\"].agg(lambda x: x.quantile(0.75) - x.quantile(0.25)).sort_values()\n",
    "\n",
    "balanced.idxmin(), balanced.min()"
   ]
  },
  {
   "cell_type": "markdown",
   "id": "19a8291e-89cb-442e-8e26-c7a5f9849b2f",
   "metadata": {},
   "source": [
    "<p style=\"font-family: tahoma ; color: red;\"><b>Identify the overall champion model: the one with the highest average score across all tasks.</b></p>"
   ]
  },
  {
   "cell_type": "code",
   "execution_count": 126,
   "id": "c2632da5-626e-40ac-83e2-d3e820db1e7f",
   "metadata": {},
   "outputs": [
    {
     "data": {
      "text/plain": [
       "Model\n",
       "ERNIE          89.7000\n",
       "T5             89.0000\n",
       "RoBERTa        87.2125\n",
       "BERT           81.7375\n",
       "BiLSTM+ELMo    67.2000\n",
       "BiLSTM+Attn    64.8375\n",
       "BiLSTM         63.3250\n",
       "BiLSTM+CoVe    61.6250\n",
       "Name: Score, dtype: float64"
      ]
     },
     "execution_count": 126,
     "metadata": {},
     "output_type": "execute_result"
    }
   ],
   "source": [
    "champion = glue.groupby(\"Model\")[\"Score\"].mean().sort_values(ascending = False)\n",
    "champion"
   ]
  },
  {
   "cell_type": "code",
   "execution_count": 128,
   "id": "cb1d64c1-b225-485b-85e5-39946d1b3677",
   "metadata": {},
   "outputs": [
    {
     "data": {
      "text/plain": [
       "('ERNIE', 89.7)"
      ]
     },
     "execution_count": 128,
     "metadata": {},
     "output_type": "execute_result"
    }
   ],
   "source": [
    "champion.idxmax(), champion.max()"
   ]
  }
 ],
 "metadata": {
  "kernelspec": {
   "display_name": "Python 3 (ipykernel)",
   "language": "python",
   "name": "python3"
  },
  "language_info": {
   "codemirror_mode": {
    "name": "ipython",
    "version": 3
   },
   "file_extension": ".py",
   "mimetype": "text/x-python",
   "name": "python",
   "nbconvert_exporter": "python",
   "pygments_lexer": "ipython3",
   "version": "3.13.5"
  }
 },
 "nbformat": 4,
 "nbformat_minor": 5
}
