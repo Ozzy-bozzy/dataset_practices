{
 "cells": [
  {
   "cell_type": "markdown",
   "id": "631da6c6-09c9-400f-abeb-fa73501719ed",
   "metadata": {},
   "source": [
    "# <p style=\"font-family: tahoma ; color: cyan; text-align: center;\"><b>Anagrams Data Set Practice</b></p>"
   ]
  },
  {
   "cell_type": "code",
   "execution_count": 3,
   "id": "e6135b3a-de7b-4d39-aff4-ef8b38fdae82",
   "metadata": {},
   "outputs": [],
   "source": [
    "import numpy as np\n",
    "import pandas as pd\n",
    "\n",
    "import matplotlib.pyplot as plt\n",
    "import matplotlib as mpl\n",
    "\n",
    "import seaborn as sns\n",
    "\n",
    "import warnings\n",
    "warnings.filterwarnings(\"ignore\")"
   ]
  },
  {
   "cell_type": "markdown",
   "id": "7b07835d-7ac9-4610-a684-2b6046e4b0ba",
   "metadata": {},
   "source": [
    "## <p style=\"font-family: tahoma ; color: green;\"><b>Easy difficulty questions</b></p>"
   ]
  },
  {
   "cell_type": "markdown",
   "id": "d2d7ee51-c775-4973-a485-c925b005968d",
   "metadata": {},
   "source": [
    "<p style=\"font-family: tahoma ; color: yellow;\">Load the dataset and display its first 10 rows.</p>"
   ]
  },
  {
   "cell_type": "code",
   "execution_count": 102,
   "id": "08dedfa9-3e9d-491f-8197-33a8cc440320",
   "metadata": {},
   "outputs": [
    {
     "data": {
      "text/html": [
       "<div>\n",
       "<style scoped>\n",
       "    .dataframe tbody tr th:only-of-type {\n",
       "        vertical-align: middle;\n",
       "    }\n",
       "\n",
       "    .dataframe tbody tr th {\n",
       "        vertical-align: top;\n",
       "    }\n",
       "\n",
       "    .dataframe thead th {\n",
       "        text-align: right;\n",
       "    }\n",
       "</style>\n",
       "<table border=\"1\" class=\"dataframe\">\n",
       "  <thead>\n",
       "    <tr style=\"text-align: right;\">\n",
       "      <th></th>\n",
       "      <th>subidr</th>\n",
       "      <th>attnr</th>\n",
       "      <th>num1</th>\n",
       "      <th>num2</th>\n",
       "      <th>num3</th>\n",
       "    </tr>\n",
       "  </thead>\n",
       "  <tbody>\n",
       "    <tr>\n",
       "      <th>0</th>\n",
       "      <td>1</td>\n",
       "      <td>divided</td>\n",
       "      <td>2</td>\n",
       "      <td>4.0</td>\n",
       "      <td>7</td>\n",
       "    </tr>\n",
       "    <tr>\n",
       "      <th>1</th>\n",
       "      <td>2</td>\n",
       "      <td>divided</td>\n",
       "      <td>3</td>\n",
       "      <td>4.0</td>\n",
       "      <td>5</td>\n",
       "    </tr>\n",
       "    <tr>\n",
       "      <th>2</th>\n",
       "      <td>3</td>\n",
       "      <td>divided</td>\n",
       "      <td>3</td>\n",
       "      <td>5.0</td>\n",
       "      <td>6</td>\n",
       "    </tr>\n",
       "    <tr>\n",
       "      <th>3</th>\n",
       "      <td>4</td>\n",
       "      <td>divided</td>\n",
       "      <td>5</td>\n",
       "      <td>7.0</td>\n",
       "      <td>5</td>\n",
       "    </tr>\n",
       "    <tr>\n",
       "      <th>4</th>\n",
       "      <td>5</td>\n",
       "      <td>divided</td>\n",
       "      <td>4</td>\n",
       "      <td>5.0</td>\n",
       "      <td>8</td>\n",
       "    </tr>\n",
       "    <tr>\n",
       "      <th>5</th>\n",
       "      <td>6</td>\n",
       "      <td>divided</td>\n",
       "      <td>5</td>\n",
       "      <td>5.0</td>\n",
       "      <td>6</td>\n",
       "    </tr>\n",
       "    <tr>\n",
       "      <th>6</th>\n",
       "      <td>7</td>\n",
       "      <td>divided</td>\n",
       "      <td>5</td>\n",
       "      <td>4.5</td>\n",
       "      <td>6</td>\n",
       "    </tr>\n",
       "    <tr>\n",
       "      <th>7</th>\n",
       "      <td>8</td>\n",
       "      <td>divided</td>\n",
       "      <td>5</td>\n",
       "      <td>7.0</td>\n",
       "      <td>8</td>\n",
       "    </tr>\n",
       "    <tr>\n",
       "      <th>8</th>\n",
       "      <td>9</td>\n",
       "      <td>divided</td>\n",
       "      <td>2</td>\n",
       "      <td>3.0</td>\n",
       "      <td>7</td>\n",
       "    </tr>\n",
       "    <tr>\n",
       "      <th>9</th>\n",
       "      <td>10</td>\n",
       "      <td>divided</td>\n",
       "      <td>6</td>\n",
       "      <td>5.0</td>\n",
       "      <td>6</td>\n",
       "    </tr>\n",
       "  </tbody>\n",
       "</table>\n",
       "</div>"
      ],
      "text/plain": [
       "   subidr    attnr  num1  num2  num3\n",
       "0       1  divided     2   4.0     7\n",
       "1       2  divided     3   4.0     5\n",
       "2       3  divided     3   5.0     6\n",
       "3       4  divided     5   7.0     5\n",
       "4       5  divided     4   5.0     8\n",
       "5       6  divided     5   5.0     6\n",
       "6       7  divided     5   4.5     6\n",
       "7       8  divided     5   7.0     8\n",
       "8       9  divided     2   3.0     7\n",
       "9      10  divided     6   5.0     6"
      ]
     },
     "execution_count": 102,
     "metadata": {},
     "output_type": "execute_result"
    }
   ],
   "source": [
    "anagrams = sns.load_dataset(\"anagrams\") # load data set\n",
    "anagrams.head(10) # first 10 rows"
   ]
  },
  {
   "cell_type": "markdown",
   "id": "12533d94-07ec-4ba6-aafb-e64db750ae3f",
   "metadata": {},
   "source": [
    "<p style=\"font-family: tahoma ; color: yellow;\">Show dataset shape (rows × columns) and column data types.</p>"
   ]
  },
  {
   "cell_type": "code",
   "execution_count": 103,
   "id": "5150e96b-135d-42d0-9fe2-0edd5f0bf3da",
   "metadata": {},
   "outputs": [
    {
     "data": {
      "text/plain": [
       "(20, 5)"
      ]
     },
     "execution_count": 103,
     "metadata": {},
     "output_type": "execute_result"
    }
   ],
   "source": [
    "anagrams.shape # rows x columns"
   ]
  },
  {
   "cell_type": "code",
   "execution_count": 104,
   "id": "f09ff784-38da-4673-8c70-c09f03700487",
   "metadata": {},
   "outputs": [
    {
     "name": "stdout",
     "output_type": "stream",
     "text": [
      "<class 'pandas.core.frame.DataFrame'>\n",
      "RangeIndex: 20 entries, 0 to 19\n",
      "Data columns (total 5 columns):\n",
      " #   Column  Non-Null Count  Dtype  \n",
      "---  ------  --------------  -----  \n",
      " 0   subidr  20 non-null     int64  \n",
      " 1   attnr   20 non-null     object \n",
      " 2   num1    20 non-null     int64  \n",
      " 3   num2    20 non-null     float64\n",
      " 4   num3    20 non-null     int64  \n",
      "dtypes: float64(1), int64(3), object(1)\n",
      "memory usage: 932.0+ bytes\n"
     ]
    }
   ],
   "source": [
    "anagrams.info() # to understand column names, what type of data they consist, if there is any null values, etc."
   ]
  },
  {
   "cell_type": "markdown",
   "id": "d166d422-f648-4282-8ddd-0c50a8d97c05",
   "metadata": {},
   "source": [
    "<p style=\"font-family: tahoma ; color: yellow;\">How many unique values are in attnr? List them.</p>"
   ]
  },
  {
   "cell_type": "code",
   "execution_count": 105,
   "id": "3fd9d6da-2da7-407b-a17d-c54ba88fb2cf",
   "metadata": {},
   "outputs": [
    {
     "data": {
      "text/plain": [
       "array(['divided', 'focused'], dtype=object)"
      ]
     },
     "execution_count": 105,
     "metadata": {},
     "output_type": "execute_result"
    }
   ],
   "source": [
    "anagrams[\"attnr\"].unique() # list unique values"
   ]
  },
  {
   "cell_type": "code",
   "execution_count": 106,
   "id": "5172bbe4-80fe-44e4-a673-f33e4430ad27",
   "metadata": {},
   "outputs": [
    {
     "data": {
      "text/plain": [
       "2"
      ]
     },
     "execution_count": 106,
     "metadata": {},
     "output_type": "execute_result"
    }
   ],
   "source": [
    "len(anagrams[\"attnr\"].unique()) # count of unique values"
   ]
  },
  {
   "cell_type": "markdown",
   "id": "911e46da-23ad-4145-974e-2d90f0309efd",
   "metadata": {},
   "source": [
    "<p style=\"font-family: tahoma ; color: yellow;\">What is the average of num1, num2, and num3 across the whole dataset?</p>"
   ]
  },
  {
   "cell_type": "code",
   "execution_count": 110,
   "id": "7bea9d68-c14a-4c74-b14e-4bf8c8ceb19b",
   "metadata": {},
   "outputs": [
    {
     "data": {
      "text/plain": [
       "num1    5.350\n",
       "num2    5.975\n",
       "num3    6.550\n",
       "dtype: float64"
      ]
     },
     "execution_count": 110,
     "metadata": {},
     "output_type": "execute_result"
    }
   ],
   "source": [
    "anagrams[[\"num1\",\"num2\",\"num3\"]].mean() # average of each num columns"
   ]
  },
  {
   "cell_type": "code",
   "execution_count": 109,
   "id": "19765efe-c744-49e1-88bc-fce4a654a596",
   "metadata": {},
   "outputs": [
    {
     "data": {
      "text/plain": [
       "num1    5.350\n",
       "num2    5.975\n",
       "num3    6.550\n",
       "dtype: float64"
      ]
     },
     "execution_count": 109,
     "metadata": {},
     "output_type": "execute_result"
    }
   ],
   "source": [
    "anagrams[[\"num1\",\"num2\",\"num3\"]].agg(\"mean\") # alternate way to find average of each num columns"
   ]
  },
  {
   "cell_type": "code",
   "execution_count": 111,
   "id": "dce0cde5-d132-4813-8da2-7fefccaa7b30",
   "metadata": {},
   "outputs": [
    {
     "data": {
      "text/plain": [
       "np.float64(5.958333333333333)"
      ]
     },
     "execution_count": 111,
     "metadata": {},
     "output_type": "execute_result"
    }
   ],
   "source": [
    "np.mean(anagrams[[\"num1\",\"num2\",\"num3\"]]) # average value within all num columns"
   ]
  },
  {
   "cell_type": "markdown",
   "id": "7a84845d-1eb7-4ebc-944d-f613178dc3a9",
   "metadata": {},
   "source": [
    "<p style=\"font-family: tahoma ; color: yellow;\">Find the maximum and minimum value of num2.</p>"
   ]
  },
  {
   "cell_type": "code",
   "execution_count": 112,
   "id": "f573111c-d9cf-44bc-8da3-16a50b117982",
   "metadata": {},
   "outputs": [
    {
     "data": {
      "text/plain": [
       "3.0"
      ]
     },
     "execution_count": 112,
     "metadata": {},
     "output_type": "execute_result"
    }
   ],
   "source": [
    "anagrams[\"num2\"].min() # minimum value on num2"
   ]
  },
  {
   "cell_type": "code",
   "execution_count": 113,
   "id": "043fe461-dbe1-4f12-b9aa-98fcf0505ea2",
   "metadata": {},
   "outputs": [
    {
     "data": {
      "text/plain": [
       "9.0"
      ]
     },
     "execution_count": 113,
     "metadata": {},
     "output_type": "execute_result"
    }
   ],
   "source": [
    "anagrams[\"num2\"].max() # maximum value of num2"
   ]
  },
  {
   "cell_type": "markdown",
   "id": "ef7a28e0-b5f0-4d43-ab27-29711f00e959",
   "metadata": {},
   "source": [
    "## <p style=\"font-family: tahoma ; color: orange;\"><b>Medium difficulty questions</b></p>"
   ]
  },
  {
   "cell_type": "markdown",
   "id": "32dcbda9-3613-43ea-ab3f-75dcba548e62",
   "metadata": {},
   "source": [
    "<p style=\"font-family: tahoma ; color: yellow;\">Group by attnr and calculate the mean of num1, num2, and num3.</p>"
   ]
  },
  {
   "cell_type": "code",
   "execution_count": 114,
   "id": "4b54bbac-bcbc-43ce-8d0d-de4178fb9d96",
   "metadata": {},
   "outputs": [
    {
     "data": {
      "text/html": [
       "<div>\n",
       "<style scoped>\n",
       "    .dataframe tbody tr th:only-of-type {\n",
       "        vertical-align: middle;\n",
       "    }\n",
       "\n",
       "    .dataframe tbody tr th {\n",
       "        vertical-align: top;\n",
       "    }\n",
       "\n",
       "    .dataframe thead th {\n",
       "        text-align: right;\n",
       "    }\n",
       "</style>\n",
       "<table border=\"1\" class=\"dataframe\">\n",
       "  <thead>\n",
       "    <tr style=\"text-align: right;\">\n",
       "      <th></th>\n",
       "      <th>num1</th>\n",
       "      <th>num2</th>\n",
       "      <th>num3</th>\n",
       "    </tr>\n",
       "    <tr>\n",
       "      <th>attnr</th>\n",
       "      <th></th>\n",
       "      <th></th>\n",
       "      <th></th>\n",
       "    </tr>\n",
       "  </thead>\n",
       "  <tbody>\n",
       "    <tr>\n",
       "      <th>divided</th>\n",
       "      <td>4.0</td>\n",
       "      <td>4.95</td>\n",
       "      <td>6.4</td>\n",
       "    </tr>\n",
       "    <tr>\n",
       "      <th>focused</th>\n",
       "      <td>6.7</td>\n",
       "      <td>7.00</td>\n",
       "      <td>6.7</td>\n",
       "    </tr>\n",
       "  </tbody>\n",
       "</table>\n",
       "</div>"
      ],
      "text/plain": [
       "         num1  num2  num3\n",
       "attnr                    \n",
       "divided   4.0  4.95   6.4\n",
       "focused   6.7  7.00   6.7"
      ]
     },
     "execution_count": 114,
     "metadata": {},
     "output_type": "execute_result"
    }
   ],
   "source": [
    "anagrams.groupby(\"attnr\")[[\"num1\",\"num2\",\"num3\"]].mean() # means for num columns, grouped by attnr"
   ]
  },
  {
   "cell_type": "markdown",
   "id": "06d5cd61-094b-4f61-a72a-40c34357a428",
   "metadata": {},
   "source": [
    "<p style=\"font-family: tahoma ; color: yellow;\">For each attnr, count how many participants (subidr) are in that group.</p>"
   ]
  },
  {
   "cell_type": "code",
   "execution_count": 115,
   "id": "560d8d95-38ae-428e-b1ab-cc0e6492ca71",
   "metadata": {},
   "outputs": [
    {
     "data": {
      "text/plain": [
       "attnr\n",
       "divided    10\n",
       "focused    10\n",
       "Name: subidr, dtype: int64"
      ]
     },
     "execution_count": 115,
     "metadata": {},
     "output_type": "execute_result"
    }
   ],
   "source": [
    "anagrams.groupby(\"attnr\")[\"subidr\"].count() # counts of participants for each attnr group"
   ]
  },
  {
   "cell_type": "markdown",
   "id": "2d8d6c5a-67d7-496e-849b-3b4b96f063c4",
   "metadata": {},
   "source": [
    "<p style=\"font-family: tahoma ; color: yellow;\">Which attnr group has the highest average num3?</p>"
   ]
  },
  {
   "cell_type": "code",
   "execution_count": 116,
   "id": "a58a1543-a274-40bf-bed9-773635b81cf5",
   "metadata": {},
   "outputs": [
    {
     "data": {
      "text/plain": [
       "attnr\n",
       "focused    6.7\n",
       "Name: num3, dtype: float64"
      ]
     },
     "execution_count": 116,
     "metadata": {},
     "output_type": "execute_result"
    }
   ],
   "source": [
    "anagrams.groupby(\"attnr\")[\"num3\"].mean().sort_values(ascending = False).head(1) # name and value for the highest mean for num3"
   ]
  },
  {
   "cell_type": "code",
   "execution_count": 117,
   "id": "f808b748-fde9-472e-988a-4a98936307c2",
   "metadata": {},
   "outputs": [
    {
     "data": {
      "text/plain": [
       "'focused'"
      ]
     },
     "execution_count": 117,
     "metadata": {},
     "output_type": "execute_result"
    }
   ],
   "source": [
    "anagrams.groupby(\"attnr\")[\"num3\"].mean().idxmax() "
   ]
  },
  {
   "cell_type": "markdown",
   "id": "db86545f-aa0b-46ed-8d91-3dbdd21e7f47",
   "metadata": {},
   "source": [
    "<p style=\"font-family: tahoma ; color: yellow;\">Create a barplot comparing the mean of num1 by attnr.</p>"
   ]
  },
  {
   "cell_type": "code",
   "execution_count": 118,
   "id": "47db6099-65a4-46ee-878b-435b0e18e731",
   "metadata": {},
   "outputs": [
    {
     "data": {
      "image/png": "[encoded data removed]",
      "text/plain": [
       "<Figure size 800x600 with 1 Axes>"
      ]
     },
     "metadata": {},
     "output_type": "display_data"
    }
   ],
   "source": [
    "plt.figure(figsize = (8,6))\n",
    "sns.barplot(anagrams, x = \"attnr\", y = \"num1\", palette = \"husl\", estimator = \"mean\")\n",
    "plt.title(\"Mean of num1 by attnr\")\n",
    "plt.show() # bar plot comparing the mean of attnr groups"
   ]
  },
  {
   "cell_type": "markdown",
   "id": "79073f1d-2ac5-4511-accf-2a69655abc28",
   "metadata": {},
   "source": [
    "<p style=\"font-family: tahoma ; color: yellow;\">Calculate the correlation matrix between num1, num2, and num3 and visualize with a heatmap.</p>"
   ]
  },
  {
   "cell_type": "code",
   "execution_count": 120,
   "id": "40b86e3a-ba7d-4a5b-aba6-5ba46cd3524e",
   "metadata": {},
   "outputs": [
    {
     "data": {
      "image/png": "[encoded data removed]",
      "text/plain": [
       "<Figure size 800x600 with 2 Axes>"
      ]
     },
     "metadata": {},
     "output_type": "display_data"
    }
   ],
   "source": [
    "plt.figure(figsize = (8,6))\n",
    "corr_matrix = anagrams[[\"num1\",\"num2\",\"num3\"]].corr()\n",
    "sns.heatmap(corr_matrix, annot = True, cmap = \"coolwarm\", center = 0)\n",
    "plt.title(\"Correlation Matrix between nums\")\n",
    "plt.show() # correlation matrix showing relationship between num columns, we can see num1 and num2 column has solid positive correlation"
   ]
  },
  {
   "cell_type": "markdown",
   "id": "d5ab55f2-19aa-47bc-b189-e1096e8c65e3",
   "metadata": {},
   "source": [
    "## <p style=\"font-family: tahoma ; color: red;\"><b>Hard difficulty questions</b></p>"
   ]
  },
  {
   "cell_type": "markdown",
   "id": "9b845cc7-c998-456b-b20f-734f8f67b5b7",
   "metadata": {},
   "source": [
    "<p style=\"font-family: tahoma ; color: yellow;\">Find the participant(s) with the highest num1 + num2 + num3 total score.</p>"
   ]
  },
  {
   "cell_type": "code",
   "execution_count": 60,
   "id": "8e24e2d8-c654-40f2-930b-0fdd75a8207f",
   "metadata": {},
   "outputs": [
    {
     "data": {
      "text/html": [
       "<div>\n",
       "<style scoped>\n",
       "    .dataframe tbody tr th:only-of-type {\n",
       "        vertical-align: middle;\n",
       "    }\n",
       "\n",
       "    .dataframe tbody tr th {\n",
       "        vertical-align: top;\n",
       "    }\n",
       "\n",
       "    .dataframe thead th {\n",
       "        text-align: right;\n",
       "    }\n",
       "</style>\n",
       "<table border=\"1\" class=\"dataframe\">\n",
       "  <thead>\n",
       "    <tr style=\"text-align: right;\">\n",
       "      <th></th>\n",
       "      <th>subidr</th>\n",
       "      <th>attnr</th>\n",
       "      <th>num1</th>\n",
       "      <th>num2</th>\n",
       "      <th>num3</th>\n",
       "      <th>total_score</th>\n",
       "    </tr>\n",
       "  </thead>\n",
       "  <tbody>\n",
       "    <tr>\n",
       "      <th>0</th>\n",
       "      <td>1</td>\n",
       "      <td>divided</td>\n",
       "      <td>2</td>\n",
       "      <td>4.0</td>\n",
       "      <td>7</td>\n",
       "      <td>13.0</td>\n",
       "    </tr>\n",
       "    <tr>\n",
       "      <th>1</th>\n",
       "      <td>2</td>\n",
       "      <td>divided</td>\n",
       "      <td>3</td>\n",
       "      <td>4.0</td>\n",
       "      <td>5</td>\n",
       "      <td>12.0</td>\n",
       "    </tr>\n",
       "    <tr>\n",
       "      <th>2</th>\n",
       "      <td>3</td>\n",
       "      <td>divided</td>\n",
       "      <td>3</td>\n",
       "      <td>5.0</td>\n",
       "      <td>6</td>\n",
       "      <td>14.0</td>\n",
       "    </tr>\n",
       "    <tr>\n",
       "      <th>3</th>\n",
       "      <td>4</td>\n",
       "      <td>divided</td>\n",
       "      <td>5</td>\n",
       "      <td>7.0</td>\n",
       "      <td>5</td>\n",
       "      <td>17.0</td>\n",
       "    </tr>\n",
       "    <tr>\n",
       "      <th>4</th>\n",
       "      <td>5</td>\n",
       "      <td>divided</td>\n",
       "      <td>4</td>\n",
       "      <td>5.0</td>\n",
       "      <td>8</td>\n",
       "      <td>17.0</td>\n",
       "    </tr>\n",
       "  </tbody>\n",
       "</table>\n",
       "</div>"
      ],
      "text/plain": [
       "   subidr    attnr  num1  num2  num3  total_score\n",
       "0       1  divided     2   4.0     7         13.0\n",
       "1       2  divided     3   4.0     5         12.0\n",
       "2       3  divided     3   5.0     6         14.0\n",
       "3       4  divided     5   7.0     5         17.0\n",
       "4       5  divided     4   5.0     8         17.0"
      ]
     },
     "execution_count": 60,
     "metadata": {},
     "output_type": "execute_result"
    }
   ],
   "source": [
    "anagrams[\"total_score\"] = anagrams[\"num1\"] + anagrams[\"num2\"] + anagrams[\"num3\"]\n",
    "anagrams.head() # create a column named \"total_score\" to find participants total score"
   ]
  },
  {
   "cell_type": "code",
   "execution_count": 61,
   "id": "9175e713-6f04-4d91-b0ed-3c914c5d827a",
   "metadata": {},
   "outputs": [
    {
     "data": {
      "text/html": [
       "<div>\n",
       "<style scoped>\n",
       "    .dataframe tbody tr th:only-of-type {\n",
       "        vertical-align: middle;\n",
       "    }\n",
       "\n",
       "    .dataframe tbody tr th {\n",
       "        vertical-align: top;\n",
       "    }\n",
       "\n",
       "    .dataframe thead th {\n",
       "        text-align: right;\n",
       "    }\n",
       "</style>\n",
       "<table border=\"1\" class=\"dataframe\">\n",
       "  <thead>\n",
       "    <tr style=\"text-align: right;\">\n",
       "      <th></th>\n",
       "      <th>subidr</th>\n",
       "      <th>attnr</th>\n",
       "      <th>num1</th>\n",
       "      <th>num2</th>\n",
       "      <th>num3</th>\n",
       "      <th>total_score</th>\n",
       "    </tr>\n",
       "  </thead>\n",
       "  <tbody>\n",
       "    <tr>\n",
       "      <th>11</th>\n",
       "      <td>12</td>\n",
       "      <td>focused</td>\n",
       "      <td>8</td>\n",
       "      <td>9.0</td>\n",
       "      <td>8</td>\n",
       "      <td>25.0</td>\n",
       "    </tr>\n",
       "  </tbody>\n",
       "</table>\n",
       "</div>"
      ],
      "text/plain": [
       "    subidr    attnr  num1  num2  num3  total_score\n",
       "11      12  focused     8   9.0     8         25.0"
      ]
     },
     "execution_count": 61,
     "metadata": {},
     "output_type": "execute_result"
    }
   ],
   "source": [
    "anagrams[anagrams[\"total_score\"] == anagrams[\"total_score\"].max()] # find and match maximum total score owner within participants"
   ]
  },
  {
   "cell_type": "markdown",
   "id": "0e519646-0e2e-4f80-8d04-923b68401e58",
   "metadata": {},
   "source": [
    "<p style=\"font-family: tahoma ; color: yellow;\">Identify participants (subidr) who scored above the dataset’s overall mean in all three numeric columns.</p>"
   ]
  },
  {
   "cell_type": "code",
   "execution_count": 68,
   "id": "b644ca28-bd40-4b96-9c5a-920de908617f",
   "metadata": {},
   "outputs": [
    {
     "name": "stdout",
     "output_type": "stream",
     "text": [
      "5.35, 5.975,6.55\n"
     ]
    }
   ],
   "source": [
    "mean_num1 = anagrams[\"num1\"].mean()\n",
    "mean_num2 = anagrams[\"num2\"].mean()\n",
    "mean_num3 = anagrams[\"num3\"].mean()\n",
    "\n",
    "print(f'''{mean_num1}, {mean_num2},{mean_num3}''') # find each nums' mean and print it just to check"
   ]
  },
  {
   "cell_type": "code",
   "execution_count": 69,
   "id": "56bd4159-5d1e-4698-a769-c99de233d57c",
   "metadata": {},
   "outputs": [
    {
     "data": {
      "text/html": [
       "<div>\n",
       "<style scoped>\n",
       "    .dataframe tbody tr th:only-of-type {\n",
       "        vertical-align: middle;\n",
       "    }\n",
       "\n",
       "    .dataframe tbody tr th {\n",
       "        vertical-align: top;\n",
       "    }\n",
       "\n",
       "    .dataframe thead th {\n",
       "        text-align: right;\n",
       "    }\n",
       "</style>\n",
       "<table border=\"1\" class=\"dataframe\">\n",
       "  <thead>\n",
       "    <tr style=\"text-align: right;\">\n",
       "      <th></th>\n",
       "      <th>subidr</th>\n",
       "      <th>attnr</th>\n",
       "      <th>num1</th>\n",
       "      <th>num2</th>\n",
       "      <th>num3</th>\n",
       "      <th>total_score</th>\n",
       "    </tr>\n",
       "  </thead>\n",
       "  <tbody>\n",
       "    <tr>\n",
       "      <th>11</th>\n",
       "      <td>12</td>\n",
       "      <td>focused</td>\n",
       "      <td>8</td>\n",
       "      <td>9.0</td>\n",
       "      <td>8</td>\n",
       "      <td>25.0</td>\n",
       "    </tr>\n",
       "    <tr>\n",
       "      <th>13</th>\n",
       "      <td>14</td>\n",
       "      <td>focused</td>\n",
       "      <td>8</td>\n",
       "      <td>8.0</td>\n",
       "      <td>7</td>\n",
       "      <td>23.0</td>\n",
       "    </tr>\n",
       "    <tr>\n",
       "      <th>14</th>\n",
       "      <td>15</td>\n",
       "      <td>focused</td>\n",
       "      <td>8</td>\n",
       "      <td>8.0</td>\n",
       "      <td>7</td>\n",
       "      <td>23.0</td>\n",
       "    </tr>\n",
       "    <tr>\n",
       "      <th>15</th>\n",
       "      <td>16</td>\n",
       "      <td>focused</td>\n",
       "      <td>6</td>\n",
       "      <td>8.0</td>\n",
       "      <td>7</td>\n",
       "      <td>21.0</td>\n",
       "    </tr>\n",
       "  </tbody>\n",
       "</table>\n",
       "</div>"
      ],
      "text/plain": [
       "    subidr    attnr  num1  num2  num3  total_score\n",
       "11      12  focused     8   9.0     8         25.0\n",
       "13      14  focused     8   8.0     7         23.0\n",
       "14      15  focused     8   8.0     7         23.0\n",
       "15      16  focused     6   8.0     7         21.0"
      ]
     },
     "execution_count": 69,
     "metadata": {},
     "output_type": "execute_result"
    }
   ],
   "source": [
    "anagrams[\n",
    "        (anagrams[\"num1\"] > mean_num1) &\n",
    "        (anagrams[\"num2\"] > mean_num2) &\n",
    "        (anagrams[\"num3\"] > mean_num3)\n",
    "                        ] # find each individual participant that goes above mean of all nums, and return it"
   ]
  },
  {
   "cell_type": "markdown",
   "id": "205f218f-d7f7-4577-8e21-841d9f54bd92",
   "metadata": {},
   "source": [
    "<p style=\"font-family: tahoma ; color: yellow;\">Create a scatterplot of num1 vs num2, colored by attnr.</p>"
   ]
  },
  {
   "cell_type": "code",
   "execution_count": 121,
   "id": "0be1f5d0-7c8d-435d-9fe3-5b16e2ebc8a4",
   "metadata": {},
   "outputs": [
    {
     "data": {
      "image/png": "[encoded data removed]",
      "text/plain": [
       "<Figure size 800x600 with 1 Axes>"
      ]
     },
     "metadata": {},
     "output_type": "display_data"
    }
   ],
   "source": [
    "plt.figure(figsize = (8,6))\n",
    "sns.scatterplot(anagrams, x = \"num1\", y = \"num2\", hue = \"attnr\", palette = \"husl\", s = 300, alpha = 0.7)\n",
    "plt.title(\"num1 vs num2\")\n",
    "plt.show() # scatterplot showing num1 and num2 across attnr"
   ]
  },
  {
   "cell_type": "markdown",
   "id": "e1fc6572-6d6b-49d7-9c76-77956f22167b",
   "metadata": {},
   "source": [
    "<p style=\"font-family: tahoma ; color: yellow;\">For each participant, compute the average of (num1, num2, num3) and plot the top 10 participants with highest averages.</p>"
   ]
  },
  {
   "cell_type": "code",
   "execution_count": 80,
   "id": "4f326b4a-c036-43d6-b0e4-86657a40d613",
   "metadata": {},
   "outputs": [
    {
     "data": {
      "text/html": [
       "<div>\n",
       "<style scoped>\n",
       "    .dataframe tbody tr th:only-of-type {\n",
       "        vertical-align: middle;\n",
       "    }\n",
       "\n",
       "    .dataframe tbody tr th {\n",
       "        vertical-align: top;\n",
       "    }\n",
       "\n",
       "    .dataframe thead th {\n",
       "        text-align: right;\n",
       "    }\n",
       "</style>\n",
       "<table border=\"1\" class=\"dataframe\">\n",
       "  <thead>\n",
       "    <tr style=\"text-align: right;\">\n",
       "      <th></th>\n",
       "      <th>subidr</th>\n",
       "      <th>attnr</th>\n",
       "      <th>num1</th>\n",
       "      <th>num2</th>\n",
       "      <th>num3</th>\n",
       "      <th>total_score</th>\n",
       "      <th>mean_score</th>\n",
       "    </tr>\n",
       "  </thead>\n",
       "  <tbody>\n",
       "    <tr>\n",
       "      <th>0</th>\n",
       "      <td>1</td>\n",
       "      <td>divided</td>\n",
       "      <td>2</td>\n",
       "      <td>4.0</td>\n",
       "      <td>7</td>\n",
       "      <td>13.0</td>\n",
       "      <td>4.333333</td>\n",
       "    </tr>\n",
       "    <tr>\n",
       "      <th>1</th>\n",
       "      <td>2</td>\n",
       "      <td>divided</td>\n",
       "      <td>3</td>\n",
       "      <td>4.0</td>\n",
       "      <td>5</td>\n",
       "      <td>12.0</td>\n",
       "      <td>4.000000</td>\n",
       "    </tr>\n",
       "    <tr>\n",
       "      <th>2</th>\n",
       "      <td>3</td>\n",
       "      <td>divided</td>\n",
       "      <td>3</td>\n",
       "      <td>5.0</td>\n",
       "      <td>6</td>\n",
       "      <td>14.0</td>\n",
       "      <td>4.666667</td>\n",
       "    </tr>\n",
       "    <tr>\n",
       "      <th>3</th>\n",
       "      <td>4</td>\n",
       "      <td>divided</td>\n",
       "      <td>5</td>\n",
       "      <td>7.0</td>\n",
       "      <td>5</td>\n",
       "      <td>17.0</td>\n",
       "      <td>5.666667</td>\n",
       "    </tr>\n",
       "    <tr>\n",
       "      <th>4</th>\n",
       "      <td>5</td>\n",
       "      <td>divided</td>\n",
       "      <td>4</td>\n",
       "      <td>5.0</td>\n",
       "      <td>8</td>\n",
       "      <td>17.0</td>\n",
       "      <td>5.666667</td>\n",
       "    </tr>\n",
       "  </tbody>\n",
       "</table>\n",
       "</div>"
      ],
      "text/plain": [
       "   subidr    attnr  num1  num2  num3  total_score  mean_score\n",
       "0       1  divided     2   4.0     7         13.0    4.333333\n",
       "1       2  divided     3   4.0     5         12.0    4.000000\n",
       "2       3  divided     3   5.0     6         14.0    4.666667\n",
       "3       4  divided     5   7.0     5         17.0    5.666667\n",
       "4       5  divided     4   5.0     8         17.0    5.666667"
      ]
     },
     "execution_count": 80,
     "metadata": {},
     "output_type": "execute_result"
    }
   ],
   "source": [
    "anagrams[\"mean_score\"] = anagrams[[\"num1\",\"num2\",\"num3\"]].mean(axis = 1)\n",
    "anagrams.head() # create a new column called \"mean_score\" for each individuals calculated mean"
   ]
  },
  {
   "cell_type": "code",
   "execution_count": 85,
   "id": "d86206ab-a475-407c-b35a-54e95038f585",
   "metadata": {},
   "outputs": [
    {
     "data": {
      "text/html": [
       "<div>\n",
       "<style scoped>\n",
       "    .dataframe tbody tr th:only-of-type {\n",
       "        vertical-align: middle;\n",
       "    }\n",
       "\n",
       "    .dataframe tbody tr th {\n",
       "        vertical-align: top;\n",
       "    }\n",
       "\n",
       "    .dataframe thead th {\n",
       "        text-align: right;\n",
       "    }\n",
       "</style>\n",
       "<table border=\"1\" class=\"dataframe\">\n",
       "  <thead>\n",
       "    <tr style=\"text-align: right;\">\n",
       "      <th></th>\n",
       "      <th>subidr</th>\n",
       "      <th>mean_score</th>\n",
       "    </tr>\n",
       "  </thead>\n",
       "  <tbody>\n",
       "    <tr>\n",
       "      <th>11</th>\n",
       "      <td>12</td>\n",
       "      <td>8.333333</td>\n",
       "    </tr>\n",
       "    <tr>\n",
       "      <th>13</th>\n",
       "      <td>14</td>\n",
       "      <td>7.666667</td>\n",
       "    </tr>\n",
       "    <tr>\n",
       "      <th>14</th>\n",
       "      <td>15</td>\n",
       "      <td>7.666667</td>\n",
       "    </tr>\n",
       "    <tr>\n",
       "      <th>15</th>\n",
       "      <td>16</td>\n",
       "      <td>7.000000</td>\n",
       "    </tr>\n",
       "    <tr>\n",
       "      <th>17</th>\n",
       "      <td>18</td>\n",
       "      <td>7.000000</td>\n",
       "    </tr>\n",
       "    <tr>\n",
       "      <th>7</th>\n",
       "      <td>8</td>\n",
       "      <td>6.666667</td>\n",
       "    </tr>\n",
       "    <tr>\n",
       "      <th>16</th>\n",
       "      <td>17</td>\n",
       "      <td>6.666667</td>\n",
       "    </tr>\n",
       "    <tr>\n",
       "      <th>12</th>\n",
       "      <td>13</td>\n",
       "      <td>6.666667</td>\n",
       "    </tr>\n",
       "    <tr>\n",
       "      <th>4</th>\n",
       "      <td>5</td>\n",
       "      <td>5.666667</td>\n",
       "    </tr>\n",
       "    <tr>\n",
       "      <th>9</th>\n",
       "      <td>10</td>\n",
       "      <td>5.666667</td>\n",
       "    </tr>\n",
       "  </tbody>\n",
       "</table>\n",
       "</div>"
      ],
      "text/plain": [
       "    subidr  mean_score\n",
       "11      12    8.333333\n",
       "13      14    7.666667\n",
       "14      15    7.666667\n",
       "15      16    7.000000\n",
       "17      18    7.000000\n",
       "7        8    6.666667\n",
       "16      17    6.666667\n",
       "12      13    6.666667\n",
       "4        5    5.666667\n",
       "9       10    5.666667"
      ]
     },
     "execution_count": 85,
     "metadata": {},
     "output_type": "execute_result"
    }
   ],
   "source": [
    "top10 = anagrams[[\"subidr\",\"mean_score\"]].sort_values(by = \"mean_score\", ascending = False).head(10)\n",
    "top10 # find top10 participants"
   ]
  },
  {
   "cell_type": "code",
   "execution_count": 122,
   "id": "80c66a9f-37e7-49e6-8b27-27eb8ce06148",
   "metadata": {},
   "outputs": [
    {
     "data": {
      "image/png": "[encoded data removed]",
      "text/plain": [
       "<Figure size 800x600 with 1 Axes>"
      ]
     },
     "metadata": {},
     "output_type": "display_data"
    }
   ],
   "source": [
    "plt.figure(figsize = (8,6))\n",
    "sns.barplot(top10, x = \"subidr\", y = \"mean_score\", palette = \"husl\")\n",
    "plt.title(\"Top 10 Participants with highest average\")\n",
    "plt.xlabel(\"Participant ID\")\n",
    "plt.ylabel(\"Averages\")\n",
    "plt.show() # bar plot showing top 10 participants with highest average"
   ]
  },
  {
   "cell_type": "markdown",
   "id": "98675a5f-cf73-47f4-9d8f-0f5d15c6db42",
   "metadata": {},
   "source": [
    "<p style=\"font-family: tahoma ; color: yellow;\">Use a boxplot to compare the distribution of num3 across attnr groups and interpret the spread.</p>"
   ]
  },
  {
   "cell_type": "code",
   "execution_count": 100,
   "id": "40f8277a-bb61-4451-9bc4-760d57b7c316",
   "metadata": {},
   "outputs": [
    {
     "data": {
      "text/plain": [
       "attnr\n",
       "divided    6.0\n",
       "focused    6.5\n",
       "Name: num3, dtype: float64"
      ]
     },
     "execution_count": 100,
     "metadata": {},
     "output_type": "execute_result"
    }
   ],
   "source": [
    "anagrams.groupby(\"attnr\")[\"num3\"].median()"
   ]
  },
  {
   "cell_type": "code",
   "execution_count": 101,
   "id": "899ce9df-731d-4786-84b4-16a031336be9",
   "metadata": {},
   "outputs": [
    {
     "data": {
      "image/png": "[encoded data removed]",
      "text/plain": [
       "<Figure size 800x600 with 1 Axes>"
      ]
     },
     "metadata": {},
     "output_type": "display_data"
    }
   ],
   "source": [
    "plt.figure(figsize = (8,6))\n",
    "sns.boxplot(anagrams, x = \"attnr\", y = \"num3\", palette = \"crest\")\n",
    "plt.title(\"Distribution of num3 per attnr groups\")\n",
    "plt.show()\n",
    "# shows divided group has median equal to Q1, which shows us data is heavily consist of small values, however focused have median right between Q1 and Q3, however have an outlier."
   ]
  }
 ],
 "metadata": {
  "kernelspec": {
   "display_name": "Python 3 (ipykernel)",
   "language": "python",
   "name": "python3"
  },
  "language_info": {
   "codemirror_mode": {
    "name": "ipython",
    "version": 3
   },
   "file_extension": ".py",
   "mimetype": "text/x-python",
   "name": "python",
   "nbconvert_exporter": "python",
   "pygments_lexer": "ipython3",
   "version": "3.13.5"
  }
 },
 "nbformat": 4,
 "nbformat_minor": 5
}
